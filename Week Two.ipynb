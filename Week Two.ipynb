{
 "cells": [
  {
   "cell_type": "markdown",
   "metadata": {},
   "source": [
    "All my code from week 2 of learning Julia"
   ]
  },
  {
   "cell_type": "code",
   "execution_count": 1,
   "metadata": {},
   "outputs": [
    {
     "data": {
      "text/plain": [
       "2001×21 Array{Any,2}:\n",
       "     \"battery_power\"   \"blue\"   \"clock_speed\"  …   \"wifi\"   \"price_range\"\n",
       "  842                 0        2.2                1        1             \n",
       " 1021                 1        0.5                0        2             \n",
       "  563                 1        0.5                0        2             \n",
       "  615                 1        2.5                0        2             \n",
       " 1821                 1        1.2             …  0        1             \n",
       " 1859                 0        0.5                0        1             \n",
       " 1821                 0        1.7                1        3             \n",
       " 1954                 0        0.5                1        0             \n",
       " 1445                 1        0.5                0        0             \n",
       "  509                 1        0.6             …  0        0             \n",
       "  769                 1        2.9                0        3             \n",
       " 1520                 1        2.2                1        3             \n",
       "    ⋮                                          ⋱           ⋮             \n",
       " 1547                 1        2.9                1        1             \n",
       "  586                 0        2.8             …  0        1             \n",
       " 1617                 1        2.4                0        0             \n",
       " 1882                 0        2.0                0        3             \n",
       "  674                 1        2.9                1        0             \n",
       " 1467                 1        0.5                1        3             \n",
       "  858                 0        2.2             …  0        3             \n",
       "  794                 1        0.5                0        0             \n",
       " 1965                 1        2.6                1        2             \n",
       " 1911                 0        0.9                0        3             \n",
       " 1512                 0        0.9                1        0             \n",
       "  510                 1        2.0             …  1        3             "
      ]
     },
     "execution_count": 1,
     "metadata": {},
     "output_type": "execute_result"
    }
   ],
   "source": [
    "using DelimitedFiles\n",
    "fdata = readdlm(\"train.csv\",',')"
   ]
  },
  {
   "cell_type": "code",
   "execution_count": 14,
   "metadata": {},
   "outputs": [
    {
     "name": "stdout",
     "output_type": "stream",
     "text": [
      "\u001b[32m\u001b[1m Resolving\u001b[22m\u001b[39m package versions...\n"
     ]
    },
    {
     "name": "stderr",
     "output_type": "stream",
     "text": [
      "┌ Info: Unable to set file permissions\n",
      "└ @ Pkg.Operations /opt/julia-1.0.3/share/julia/stdlib/v1.0/Pkg/src/Operations.jl:73\n"
     ]
    },
    {
     "name": "stdout",
     "output_type": "stream",
     "text": [
      "\u001b[32m\u001b[1m Installed\u001b[22m\u001b[39m TimeZones ─ v0.8.2\n"
     ]
    },
    {
     "name": "stderr",
     "output_type": "stream",
     "text": [
      "┌ Info: Unable to set file permissions\n",
      "└ @ Pkg.Operations /opt/julia-1.0.3/share/julia/stdlib/v1.0/Pkg/src/Operations.jl:73\n"
     ]
    },
    {
     "name": "stdout",
     "output_type": "stream",
     "text": [
      "\u001b[32m\u001b[1m Installed\u001b[22m\u001b[39m Mocking ─── v0.5.7\n",
      "\u001b[32m\u001b[1m Installed\u001b[22m\u001b[39m EzXML ───── v0.9.0\n"
     ]
    },
    {
     "name": "stderr",
     "output_type": "stream",
     "text": [
      "┌ Info: Unable to set file permissions\n",
      "└ @ Pkg.Operations /opt/julia-1.0.3/share/julia/stdlib/v1.0/Pkg/src/Operations.jl:73\n"
     ]
    },
    {
     "name": "stdout",
     "output_type": "stream",
     "text": [
      "\u001b[32m\u001b[1m  Updating\u001b[22m\u001b[39m `~/.julia/Project.toml`\n",
      " \u001b[90m [f269a46b]\u001b[39m\u001b[92m + TimeZones v0.8.2\u001b[39m\n",
      "\u001b[32m\u001b[1m  Updating\u001b[22m\u001b[39m `~/.julia/Manifest.toml`\n",
      " \u001b[90m [8f5d6c58]\u001b[39m\u001b[92m + EzXML v0.9.0\u001b[39m\n",
      " \u001b[90m [682c06a0]\u001b[39m\u001b[92m + JSON v0.20.0\u001b[39m\n",
      " \u001b[90m [78c3b35d]\u001b[39m\u001b[92m + Mocking v0.5.7\u001b[39m\n",
      " \u001b[90m [4d1e1d77]\u001b[39m\u001b[92m + Nullables v0.0.8\u001b[39m\n",
      " \u001b[90m [f269a46b]\u001b[39m\u001b[92m + TimeZones v0.8.2\u001b[39m\n",
      " \u001b[90m [2a0f44e3]\u001b[39m\u001b[92m + Base64 \u001b[39m\n",
      " \u001b[90m [b99e7846]\u001b[39m\u001b[92m + BinaryProvider \u001b[39m\n",
      " \u001b[90m [34da2185]\u001b[39m\u001b[92m + Compat \u001b[39m\n",
      " \u001b[90m [864e158e]\u001b[39m\u001b[92m + CredentialsHandler \u001b[39m\n",
      " \u001b[90m [ade2ca70]\u001b[39m\u001b[92m + Dates \u001b[39m\n",
      " \u001b[90m [8bb1440f]\u001b[39m\u001b[92m + DelimitedFiles \u001b[39m\n",
      " \u001b[90m [8ba89e20]\u001b[39m\u001b[92m + Distributed \u001b[39m\n",
      " \u001b[90m [cd3eb016]\u001b[39m\u001b[92m + HTTP \u001b[39m\n",
      " \u001b[90m [83e8ac13]\u001b[39m\u001b[92m + IniFile \u001b[39m\n",
      " \u001b[90m [b77e0a4c]\u001b[39m\u001b[92m + InteractiveUtils \u001b[39m\n",
      " \u001b[90m [76f85450]\u001b[39m\u001b[92m + LibGit2 \u001b[39m\n",
      " \u001b[90m [8f399da3]\u001b[39m\u001b[92m + Libdl \u001b[39m\n",
      " \u001b[90m [37e2e46d]\u001b[39m\u001b[92m + LinearAlgebra \u001b[39m\n",
      " \u001b[90m [56ddb016]\u001b[39m\u001b[92m + Logging \u001b[39m\n",
      " \u001b[90m [d6f4376e]\u001b[39m\u001b[92m + Markdown \u001b[39m\n",
      " \u001b[90m [739be429]\u001b[39m\u001b[92m + MbedTLS \u001b[39m\n",
      " \u001b[90m [a63ad114]\u001b[39m\u001b[92m + Mmap \u001b[39m\n",
      " \u001b[90m [44cfe95a]\u001b[39m\u001b[92m + Pkg \u001b[39m\n",
      " \u001b[90m [de0858da]\u001b[39m\u001b[92m + Printf \u001b[39m\n",
      " \u001b[90m [3fa0cd96]\u001b[39m\u001b[92m + REPL \u001b[39m\n",
      " \u001b[90m [9a3f8284]\u001b[39m\u001b[92m + Random \u001b[39m\n",
      " \u001b[90m [ea8e919c]\u001b[39m\u001b[92m + SHA \u001b[39m\n",
      " \u001b[90m [9e88b42a]\u001b[39m\u001b[92m + Serialization \u001b[39m\n",
      " \u001b[90m [1a1011a3]\u001b[39m\u001b[92m + SharedArrays \u001b[39m\n",
      " \u001b[90m [6462fe0b]\u001b[39m\u001b[92m + Sockets \u001b[39m\n",
      " \u001b[90m [2f01184e]\u001b[39m\u001b[92m + SparseArrays \u001b[39m\n",
      " \u001b[90m [10745b16]\u001b[39m\u001b[92m + Statistics \u001b[39m\n",
      " \u001b[90m [4607b0f0]\u001b[39m\u001b[92m + SuiteSparse \u001b[39m\n",
      " \u001b[90m [9d418dce]\u001b[39m\u001b[92m + TOML \u001b[39m\n",
      " \u001b[90m [8dfed614]\u001b[39m\u001b[92m + Test \u001b[39m\n",
      " \u001b[90m [cf7118a7]\u001b[39m\u001b[92m + UUIDs \u001b[39m\n",
      " \u001b[90m [4ec0a83e]\u001b[39m\u001b[92m + Unicode \u001b[39m\n",
      "\u001b[32m\u001b[1m  Building\u001b[22m\u001b[39m EzXML ────→ `~/.julia/packages/EzXML/DUxj7/deps/build.log`\n",
      "\u001b[32m\u001b[1m  Building\u001b[22m\u001b[39m TimeZones → `~/.julia/packages/TimeZones/JvOCz/deps/build.log`\n"
     ]
    },
    {
     "data": {
      "text/plain": [
       "2015-11-25T00:00:00"
      ]
     },
     "execution_count": 14,
     "metadata": {},
     "output_type": "execute_result"
    }
   ],
   "source": [
    "import Pkg\n",
    "Pkg.add(\"TimeZones\")\n",
    "using TimeZones\n",
    "using DelimitedFiles\n",
    "ebola=readdlm(\"wikipediaEVDraw.csv\",',')\n",
    "for i\n",
    "DateTime(ebola[i,1], \"d u y\")"
   ]
  },
  {
   "cell_type": "code",
   "execution_count": 17,
   "metadata": {},
   "outputs": [
    {
     "name": "stdout",
     "output_type": "stream",
     "text": [
      "num= 1num= 2num= 3num= 4num= 5num= 6num= 7num= 8num= 9num= 10num= 11num= 12num= 13num= 14num= 15"
     ]
    }
   ],
   "source": [
    "for num=1:15\n",
    "    print(\"num= $num\")\n",
    "end"
   ]
  },
  {
   "cell_type": "code",
   "execution_count": 7,
   "metadata": {},
   "outputs": [
    {
     "name": "stdout",
     "output_type": "stream",
     "text": [
      "stdin> 422\n",
      "8\n"
     ]
    }
   ],
   "source": [
    "#to find sum of digits of a number\n",
    "n=parse(Int64,readline())\n",
    "s=0\n",
    "while(n>0)\n",
    "    d=n%10\n",
    "    n=div(n,10)\n",
    "    s=s+d\n",
    "end\n",
    "println(s)"
   ]
  },
  {
   "cell_type": "code",
   "execution_count": null,
   "metadata": {},
   "outputs": [],
   "source": [
    "using TimeZones\n",
    "using DelimitedFiles\n",
    "ebola=readdlm(\"wikipediaEVDraw.csv\",',')\n",
    "for i=1:54\n",
    "    println(DateTime(ebola[i,1], \"d u y\"))\n",
    "end"
   ]
  },
  {
   "cell_type": "code",
   "execution_count": 50,
   "metadata": {},
   "outputs": [
    {
     "data": {
      "text/plain": [
       "5-element Array{Int64,1}:\n",
       "  -421566563817631231\n",
       "   253703680664231123\n",
       " -5960829142730071775\n",
       "   288171782536469327\n",
       "  8564346176280438881"
      ]
     },
     "execution_count": 50,
     "metadata": {},
     "output_type": "execute_result"
    }
   ],
   "source": [
    "A=rand(Int64,5,4)\n",
    "A[:,2]"
   ]
  },
  {
   "cell_type": "code",
   "execution_count": 36,
   "metadata": {},
   "outputs": [
    {
     "data": {
      "text/plain": [
       "(2, 1)"
      ]
     },
     "execution_count": 36,
     "metadata": {},
     "output_type": "execute_result"
    }
   ],
   "source": [
    "arr=[(i,j) for i=1:3 for j=1:i]\n",
    "arr[2,1]"
   ]
  },
  {
   "cell_type": "code",
   "execution_count": 1,
   "metadata": {},
   "outputs": [
    {
     "name": "stdout",
     "output_type": "stream",
     "text": [
      "search: \u001b[0m\u001b[1me\u001b[22m\u001b[0m\u001b[1ml\u001b[22m\u001b[0m\u001b[1ms\u001b[22m\u001b[0m\u001b[1me\u001b[22m \u001b[0m\u001b[1me\u001b[22m\u001b[0m\u001b[1ml\u001b[22m\u001b[0m\u001b[1ms\u001b[22m\u001b[0m\u001b[1me\u001b[22mif if\u001b[0m\u001b[1me\u001b[22m\u001b[0m\u001b[1ml\u001b[22m\u001b[0m\u001b[1ms\u001b[22m\u001b[0m\u001b[1me\u001b[22m @\u001b[0m\u001b[1me\u001b[22m\u001b[0m\u001b[1ml\u001b[22map\u001b[0m\u001b[1ms\u001b[22m\u001b[0m\u001b[1me\u001b[22md fi\u001b[0m\u001b[1me\u001b[22m\u001b[0m\u001b[1ml\u001b[22mdoff\u001b[0m\u001b[1ms\u001b[22m\u001b[0m\u001b[1me\u001b[22mt nfi\u001b[0m\u001b[1me\u001b[22m\u001b[0m\u001b[1ml\u001b[22md\u001b[0m\u001b[1ms\u001b[22m r\u001b[0m\u001b[1me\u001b[22mad\u001b[0m\u001b[1ml\u001b[22mine\u001b[0m\u001b[1ms\u001b[22m fi\u001b[0m\u001b[1me\u001b[22m\u001b[0m\u001b[1ml\u001b[22mdname\u001b[0m\u001b[1ms\u001b[22m\n",
      "\n"
     ]
    },
    {
     "data": {
      "text/latex": [
       "\\begin{verbatim}\n",
       "if/elseif/else\n",
       "\\end{verbatim}\n",
       "\\texttt{if}/\\texttt{elseif}/\\texttt{else} performs conditional evaluation, which allows portions of code to be evaluated or not evaluated depending on the value of a boolean expression. Here is the anatomy of the \\texttt{if}/\\texttt{elseif}/\\texttt{else} conditional syntax:\n",
       "\n",
       "\\begin{verbatim}\n",
       "if x < y\n",
       "    println(\"x is less than y\")\n",
       "elseif x > y\n",
       "    println(\"x is greater than y\")\n",
       "else\n",
       "    println(\"x is equal to y\")\n",
       "end\n",
       "\\end{verbatim}\n",
       "If the condition expression \\texttt{x < y} is true, then the corresponding block is evaluated; otherwise the condition expression \\texttt{x > y} is evaluated, and if it is true, the corresponding block is evaluated; if neither expression is true, the \\texttt{else} block is evaluated. The \\texttt{elseif} and \\texttt{else} blocks are optional, and as many \\texttt{elseif} blocks as desired can be used.\n",
       "\n"
      ],
      "text/markdown": [
       "```\n",
       "if/elseif/else\n",
       "```\n",
       "\n",
       "`if`/`elseif`/`else` performs conditional evaluation, which allows portions of code to be evaluated or not evaluated depending on the value of a boolean expression. Here is the anatomy of the `if`/`elseif`/`else` conditional syntax:\n",
       "\n",
       "```julia\n",
       "if x < y\n",
       "    println(\"x is less than y\")\n",
       "elseif x > y\n",
       "    println(\"x is greater than y\")\n",
       "else\n",
       "    println(\"x is equal to y\")\n",
       "end\n",
       "```\n",
       "\n",
       "If the condition expression `x < y` is true, then the corresponding block is evaluated; otherwise the condition expression `x > y` is evaluated, and if it is true, the corresponding block is evaluated; if neither expression is true, the `else` block is evaluated. The `elseif` and `else` blocks are optional, and as many `elseif` blocks as desired can be used.\n"
      ],
      "text/plain": [
       "\u001b[36m  if/elseif/else\u001b[39m\n",
       "\n",
       "  \u001b[36mif\u001b[39m/\u001b[36melseif\u001b[39m/\u001b[36melse\u001b[39m performs conditional evaluation, which allows portions of\n",
       "  code to be evaluated or not evaluated depending on the value of a boolean\n",
       "  expression. Here is the anatomy of the \u001b[36mif\u001b[39m/\u001b[36melseif\u001b[39m/\u001b[36melse\u001b[39m conditional syntax:\n",
       "\n",
       "\u001b[36m  if x < y\u001b[39m\n",
       "\u001b[36m      println(\"x is less than y\")\u001b[39m\n",
       "\u001b[36m  elseif x > y\u001b[39m\n",
       "\u001b[36m      println(\"x is greater than y\")\u001b[39m\n",
       "\u001b[36m  else\u001b[39m\n",
       "\u001b[36m      println(\"x is equal to y\")\u001b[39m\n",
       "\u001b[36m  end\u001b[39m\n",
       "\n",
       "  If the condition expression \u001b[36mx < y\u001b[39m is true, then the corresponding block is\n",
       "  evaluated; otherwise the condition expression \u001b[36mx > y\u001b[39m is evaluated, and if it\n",
       "  is true, the corresponding block is evaluated; if neither expression is\n",
       "  true, the \u001b[36melse\u001b[39m block is evaluated. The \u001b[36melseif\u001b[39m and \u001b[36melse\u001b[39m blocks are optional,\n",
       "  and as many \u001b[36melseif\u001b[39m blocks as desired can be used."
      ]
     },
     "execution_count": 1,
     "metadata": {},
     "output_type": "execute_result"
    }
   ],
   "source": [
    "?else"
   ]
  },
  {
   "cell_type": "code",
   "execution_count": 5,
   "metadata": {},
   "outputs": [
    {
     "name": "stdout",
     "output_type": "stream",
     "text": [
      "1    3    5    "
     ]
    }
   ],
   "source": [
    "for k=1:2:5\n",
    "    print(\"$k    \")\n",
    "end"
   ]
  },
  {
   "cell_type": "code",
   "execution_count": 100,
   "metadata": {},
   "outputs": [
    {
     "data": {
      "image/png": "[encoded data removed]"
     },
     "execution_count": 100,
     "metadata": {},
     "output_type": "execute_result"
    }
   ],
   "source": [
    "using Plots\n",
    "pyplot()\n",
    "a=rand(10,2)\n",
    "b=rand(10,2)\n",
    "for i=1:10\n",
    "    a[i,1]=i\n",
    "    a[i,2]=i\n",
    "    b[i,1]=i*i\n",
    "    b[i,2]=i*i*i\n",
    "end\n",
    "plot(a,b)"
   ]
  },
  {
   "cell_type": "code",
   "execution_count": 3,
   "metadata": {},
   "outputs": [
    {
     "data": {
      "image/png": "[encoded data removed]"
     },
     "execution_count": 3,
     "metadata": {},
     "output_type": "execute_result"
    }
   ],
   "source": [
    "using Plots\n",
    "pyplot()\n",
    "a=rand(11,2)\n",
    "b=rand(11,2)\n",
    "for i=1:11 \n",
    "    j=i-6\n",
    "    a[i,1]=j\n",
    "    a[i,2]=j\n",
    "    b[i,1]=j*j\n",
    "    b[i,2]=j*j*j\n",
    "end\n",
    "plot(a,b,linetype=:scatter,marker=:diamond)"
   ]
  },
  {
   "cell_type": "code",
   "execution_count": 15,
   "metadata": {},
   "outputs": [
    {
     "data": {
      "text/plain": [
       "7×8×2 Array{Char,3}:\n",
       "[:, :, 1] =\n",
       " '\\Ub0fe7'  '\\U3595f'  '\\U1025b0'  …  '\\Uff9fd'  '\\U9525a'  '\\U57a38'\n",
       " '\\Ue4c0e'  '\\U4007a'  '\\Uf2202'      '\\U61890'  '\\Ua80df'  '\\U58bf8'\n",
       " '\\U8a64e'  '勰'        '\\U80a1c'      '꒞'        '\\Uffcc4'  '\\Uad108'\n",
       " '\\U4b240'  '\\U3d227'  '\\Ub3a56'      '\\U695c8'  'ȫ'        '𦇈'      \n",
       " '\\Uc9991'  '\\Ucc4df'  '\\Uc3615'      '\\Ub021c'  '\\Uf59fc'  '\\U9d2f8'\n",
       " '\\Uaa9d9'  '\\U561f1'  '\\Ua009e'   …  '\\U4f620'  '䢯'        '\\U6edbd'\n",
       " '𣌧'        '\\Ub8f50'  '\\U69a0f'      '\\Uf8b97'  '\\U45b87'  '\\Ue3a83'\n",
       "\n",
       "[:, :, 2] =\n",
       " '\\U10eb20'  '\\U7fed1'  '\\U74102'   …  '\\U7fc55'  '眸'        '\\U6b7b3' \n",
       " '𠠉'         '\\U7fb69'  '\\U9be9b'      '\\U51838'  '\\U46939'  '\\Ub0dea' \n",
       " '\\U82a68'   '\\Uc8056'  '\\U48b45'      '\\U92037'  '\\U7ce8e'  '\\U5028b' \n",
       " '\\Ua0743'   '\\Ua6200'  '\\U1071be'     '\\U8d84c'  '\\Uc22fb'  '\\U1061c4'\n",
       " '\\U4e154'   '𡙿'        '䁇'            '\\U5bc14'  '\\Uafb7d'  '\\U7c5c1' \n",
       " '\\U3ae37'   '\\Ub41dd'  '\\Ucc349'   …  '\\U9fad3'  '\\U36859'  '\\U10fee7'\n",
       " '\\Uc2e01'   '\\Ue28e6'  '\\U109a4e'     '\\Uf1dd3'  '\\U7c242'  '\\Ua4713' "
      ]
     },
     "execution_count": 15,
     "metadata": {},
     "output_type": "execute_result"
    }
   ],
   "source": [
    "k=rand(Char,7,8,2)"
   ]
  },
  {
   "cell_type": "code",
   "execution_count": null,
   "metadata": {},
   "outputs": [],
   "source": []
  }
 ],
 "metadata": {
  "kernelspec": {
   "display_name": "Julia 1.0.3",
   "language": "julia",
   "name": "julia-1.0"
  },
  "language_info": {
   "file_extension": ".jl",
   "mimetype": "application/julia",
   "name": "julia",
   "version": "1.0.3"
  }
 },
 "nbformat": 4,
 "nbformat_minor": 2
}
